{
 "cells": [
  {
   "cell_type": "code",
   "execution_count": 3,
   "id": "54683f63-070d-4a77-ad5c-4fc37ffe9c66",
   "metadata": {},
   "outputs": [],
   "source": []
  },
  {
   "cell_type": "code",
   "execution_count": null,
   "id": "74b8e11c-e5eb-490c-8520-bd8498af8a0e",
   "metadata": {},
   "outputs": [],
   "source": [
    "\n"
   ]
  },
  {
   "cell_type": "code",
   "execution_count": 15,
   "id": "18cfdd60-31f3-499a-93e2-769aae1be20c",
   "metadata": {
    "scrolled": true
   },
   "outputs": [
    {
     "name": "stdout",
     "output_type": "stream",
     "text": [
      "Careers at Codegen | Build the Future of AI\n",
      "\n",
      "EnterpriseSecurityPricingCareersLoginCome build the future of software engineeringFull-TimeBased in San FranciscoIn-PersonApplyOpen RolesAt Codegen, we’re on a mission to revolutionize the way enterprise companies manage and transform their codebases. We’re looking for passionate, driven individuals who are ready to take on big challenges, build cutting-edge solutions, and help shape the future of software engineering.Staff EngineerJoin Codegen as a Staff Engineer to build robust backend systems and lead projects in a dynamic, fast-paced environment. Must have 10+ years of experience, with a background in developing complex, stateful backends using Python.Applied Algorithms ResearcherJoin us as an Applied Algorithms Researcher to shape the future of AI-driven code generation. Bring your expertise in AI, particularly from a pre-LLM era, and drive the development of advanced research machines and algorithms.Compute Platform EngineerJoin Codegen as a Senior/Staff Compute Platform Engineer to build and maintain infrastructure used by our Agents and Customers. Codegen is an Equal Opportunity Employer. We are committed to providing equal employment opportunities to all individuals regardless of race, color, religion, sex, sexual orientation, gender identity, national origin, disability, age, protected veteran status, or any other characteristic protected by federal, state, or local laws. For California applicants, Codegen complies with all applicable state and local laws, including the California Fair Employment and Housing Act (FEHA), which prohibits discrimination and harassment in employment based on characteristics such as race, gender, disability, and more. We encourage candidates of all backgrounds to apply and are dedicated to fostering a workplace that is inclusive and supportive for everyone.CompanyAboutCareersContactEnterpriseSecurityResourcesDocumentationStatusPrivacy PolicyTerms of ServicePlatformGet StartedLogin© Codegen, Inc. Est 2023. All Rights Reserved.\n",
      "\n",
      "\n",
      "```json\n",
      "[\n",
      "  {\n",
      "    \"role\": \"Staff Engineer\",\n",
      "    \"experience\": \"10+ years\",\n",
      "    \"skills\": \"Python, developing complex, stateful backends\",\n",
      "    \"description\": \"Join Codegen as a Staff Engineer to build robust backend systems and lead projects in a dynamic, fast-paced environment.\"\n",
      "  },\n",
      "  {\n",
      "    \"role\": \"Applied Algorithms Researcher\",\n",
      "    \"experience\": \"\",\n",
      "    \"skills\": \"AI, pre-LLM era, AI-driven code generation, advanced research machines and algorithms\",\n",
      "    \"description\": \"Join us as an Applied Algorithms Researcher to shape the future of AI-driven code generation. Bring your expertise in AI, particularly from a pre-LLM era, and drive the development of advanced research machines and algorithms.\"\n",
      "  },\n",
      "  {\n",
      "    \"role\": \"Compute Platform Engineer\",\n",
      "    \"experience\": \"\",\n",
      "    \"skills\": \"infrastructure, Agents, Customers\",\n",
      "    \"description\": \"Join Codegen as a Senior/Staff Compute Platform Engineer to build and maintain infrastructure used by our Agents and Customers.\"\n",
      "  }\n",
      "]\n",
      "```\n",
      "[{'role': 'Staff Engineer', 'experience': '10+ years', 'skills': 'Python, developing complex, stateful backends', 'description': 'Join Codegen as a Staff Engineer to build robust backend systems and lead projects in a dynamic, fast-paced environment.'}, {'role': 'Applied Algorithms Researcher', 'experience': '', 'skills': 'AI, pre-LLM era, AI-driven code generation, advanced research machines and algorithms', 'description': 'Join us as an Applied Algorithms Researcher to shape the future of AI-driven code generation. Bring your expertise in AI, particularly from a pre-LLM era, and drive the development of advanced research machines and algorithms.'}, {'role': 'Compute Platform Engineer', 'experience': '', 'skills': 'infrastructure, Agents, Customers', 'description': 'Join Codegen as a Senior/Staff Compute Platform Engineer to build and maintain infrastructure used by our Agents and Customers.'}]\n",
      "[[{'links': 'https://example.com/ml-python-portfolio'}, {'links': 'https://example.com/python-portfolio'}], [{'links': 'https://example.com/react-native-portfolio'}, {'links': 'https://example.com/react-portfolio'}]]\n"
     ]
    }
   ],
   "source": [
    "from langchain_groq import ChatGroq\n",
    "\n",
    "llm = ChatGroq(\n",
    "    temperature=0,\n",
    "    groq_api_key='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',\n",
    "    model_name=\"llama-3.1-8b-instant\"\n",
    ")\n",
    "\n",
    "\n",
    "\n",
    "\n",
    "from langchain_community.document_loaders import WebBaseLoader\n",
    "loader = WebBaseLoader(\"https://www.codegen.com/careers\")\n",
    "page_data=loader.load().pop().page_content\n",
    "print(page_data)\n",
    "\n",
    "from langchain_core.prompts import PromptTemplate\n",
    "\n",
    "# Define the prompt template\n",
    "prompt_extract = PromptTemplate.from_template(\n",
    "    \"\"\"\n",
    "    ### SCRAPED TEXT FROM WEBSITE:\n",
    "    {page_data}\n",
    "    ### INSTRUCTION:\n",
    "    The scraped text is from the career's page of a website.\n",
    "    Your job is to extract the job postings and return them in JSON format containing the following keys: `role`, `experience`, `skills` and `description`.\n",
    "    Only return the valid JSON (NO PREAMBLE):\n",
    "    \"\"\"\n",
    ")\n",
    "\n",
    "# Use the prompt with a language model (llm) to extract the relevant information\n",
    "chain_extract = prompt_extract | llm\n",
    "\n",
    "# Invoke the model\n",
    "res = chain_extract.invoke(input={'page_data': page_data})\n",
    "\n",
    "# Print the response content\n",
    "print(res.content)\n",
    "\n",
    "\n",
    "from langchain_core.output_parsers import JsonOutputParser\n",
    "\n",
    "# Initialize the JSON Output Parser\n",
    "json_parser = JsonOutputParser()\n",
    "\n",
    "# Parse the content of the response (the output from your model)\n",
    "json_data = json_parser.parse(res.content)\n",
    "print(json_data)\n",
    "\n",
    "\n",
    "import pandas as pd\n",
    "df=pd.read_csv(\"portfolio_links.csv\")\n",
    "df\n",
    "\n",
    "import uuid\n",
    "import chromadb\n",
    "\n",
    "# Create a Persistent Client for ChromaDB (for persistent storage of vector data)\n",
    "client = chromadb.PersistentClient('vectorstore')\n",
    "\n",
    "# Get or create a collection in the vector store\n",
    "collection = client.get_or_create_collection(name=\"portfolio\")\n",
    "\n",
    "# Check if the collection is empty (if no documents exist)\n",
    "if not collection.count():\n",
    "    # Iterate through rows in a DataFrame (df)\n",
    "    for _, row in df.iterrows():\n",
    "        # Add documents to the collection\n",
    "        collection.add(\n",
    "            documents=row[\"Techstack\"],  # Adding the techstack from the DataFrame row\n",
    "            metadatas={\"links\": row[\"Links\"]},  # Adding metadata (links) from the DataFrame row\n",
    "            ids=[str(uuid.uuid4())]  # Generating a unique ID for each document\n",
    "        )\n",
    "        \n",
    "\n",
    "\n",
    "results = collection.query(\n",
    "    query_texts=[\"Experience in Python\", \"Expertise in React Native\"],\n",
    "    n_results=2\n",
    ").get('metadatas')\n",
    "\n",
    "print(results)\n",
    "\n",
    "\n"
   ]
  },
  {
   "cell_type": "code",
   "execution_count": 27,
   "id": "dc6e55a7-8b14-4b36-af9d-04a5a9140317",
   "metadata": {
    "scrolled": true
   },
   "outputs": [
    {
     "name": "stdout",
     "output_type": "stream",
     "text": [
      "{'ids': [['43f62a70-2610-4fe0-b26f-aa17fd5bb0ef', '851cd383-032d-4691-8c27-9bd5aa10b4c0', '4dc64db3-2ec3-45af-bfa5-80fbc6364f11', 'b4647cbd-4a5a-44d0-8007-31e80100418f', '0a90d0f7-cf8a-47f3-b252-adfcd7f447ea', '3bdfb0d7-632a-4704-a146-ee3380c812b5', '84126f12-dab9-4d6d-b7d2-cfe4f036dccc', '2292deb8-4508-4cd1-816d-ad32abaf6fa0', '22df010d-2c06-40eb-8e10-5a25cf6203fb', '535318f7-da1d-4f73-a012-bee4e65d6ab4', 'fc378fe9-25c3-4f06-9821-b03745588936', '79e0b4df-7f36-4ad1-bdc5-fb2b1356a926', '3b768ad6-5316-42ad-9759-66caf7a722da', 'b76bc239-f374-415f-904c-a3cadafe1f1d', 'c606aeb4-4d27-470d-ae7b-1974cc27dbfb', 'eb3f7079-a007-4dc5-b431-023b2cb64267', 'bb20d8dd-7638-4c7f-bab6-908574783fb7', '66603345-7e3e-41c0-9670-c116a37c8180', '2d7ec387-4923-4fd3-88d5-7331826f4829', '8c3571d9-2ba2-4ca0-9304-9b7be5832089']], 'embeddings': None, 'documents': [['Android TV, Kotlin, Android NDK', 'Backend, Kotlin, Spring Boot', 'Java, Spring Boot, Oracle', 'DevOps, Jenkins, Docker', 'iOS, Swift, ARKit', 'Cross-platform, Xamarin, Azure', 'Vue.js, Ruby on Rails, PostgreSQL', 'Machine Learning, Python, TensorFlow', 'Python, Django, MySQL', 'Kotlin, Android, Firebase', 'Magento, PHP, MySQL', 'Frontend, TypeScript, Angular', 'Full-stack, JavaScript, Express.js', 'Android, Java, Room Persistence', 'React, Node.js, MongoDB', 'WordPress, PHP, MySQL', 'React Native, Node.js, MongoDB', 'Angular, .NET, SQL Server', 'Flutter, Firebase, GraphQL', 'iOS, Swift, Core Data']], 'uris': None, 'included': ['metadatas', 'documents', 'distances'], 'data': None, 'metadatas': [[{'links': 'https://example.com/android-tv-portfolio'}, {'links': 'https://example.com/kotlin-backend-portfolio'}, {'links': 'https://example.com/java-portfolio'}, {'links': 'https://example.com/devops-portfolio'}, {'links': 'https://example.com/ios-ar-portfolio'}, {'links': 'https://example.com/xamarin-portfolio'}, {'links': 'https://example.com/vue-portfolio'}, {'links': 'https://example.com/ml-python-portfolio'}, {'links': 'https://example.com/python-portfolio'}, {'links': 'https://example.com/kotlin-android-portfolio'}, {'links': 'https://example.com/magento-portfolio'}, {'links': 'https://example.com/typescript-frontend-portfolio'}, {'links': 'https://example.com/full-stack-js-portfolio'}, {'links': 'https://example.com/android-portfolio'}, {'links': 'https://example.com/react-portfolio'}, {'links': 'https://example.com/wordpress-portfolio'}, {'links': 'https://example.com/react-native-portfolio'}, {'links': 'https://example.com/angular-portfolio'}, {'links': 'https://example.com/flutter-portfolio'}, {'links': 'https://example.com/ios-portfolio'}]], 'distances': [[1.8123931884765625, 1.834486722946167, 1.8533955812454224, 1.8689053058624268, 1.873978853225708, 1.8744134902954102, 1.87638521194458, 1.8817965984344482, 1.912207007408142, 1.917125940322876, 1.956925392150879, 1.9583576917648315, 1.9712047576904297, 1.9890525341033936, 1.9946892261505127, 2.0007917881011963, 2.0096092224121094, 2.0231919288635254, 2.096677780151367, 2.1037745475769043]]}\n",
      "All Documents: [['Android TV, Kotlin, Android NDK', 'Backend, Kotlin, Spring Boot', 'Java, Spring Boot, Oracle', 'DevOps, Jenkins, Docker', 'iOS, Swift, ARKit', 'Cross-platform, Xamarin, Azure', 'Vue.js, Ruby on Rails, PostgreSQL', 'Machine Learning, Python, TensorFlow', 'Python, Django, MySQL', 'Kotlin, Android, Firebase', 'Magento, PHP, MySQL', 'Frontend, TypeScript, Angular', 'Full-stack, JavaScript, Express.js', 'Android, Java, Room Persistence', 'React, Node.js, MongoDB', 'WordPress, PHP, MySQL', 'React Native, Node.js, MongoDB', 'Angular, .NET, SQL Server', 'Flutter, Firebase, GraphQL', 'iOS, Swift, Core Data']]\n",
      "All Metadata: <built-in function all>\n"
     ]
    }
   ],
   "source": [
    "# Query the entire collection (without any search query) to get all documents and metadata\n",
    "import uuid\n",
    "import chromadb\n",
    "\n",
    "results = collection.query(\n",
    "    query_texts=[\"\"],  # Empty query will fetch all documents\n",
    "    n_results=collection.count()  # Get all documents by passing the collection count\n",
    ")\n",
    "print(results)\n",
    "\n",
    "# Retrieve the full list of documents and metadata\n",
    "all_documents = results['documents']  # List of all documents\n",
    "all_metadatas = results['metadatas']  # List of all metadata\n",
    "\n",
    "# Print all documents and metadata\n",
    "print(\"All Documents:\", all_documents)\n",
    "print(\"All Metadata:\", all)\n"
   ]
  },
  {
   "cell_type": "code",
   "execution_count": 47,
   "id": "f1e15b3b-f4ba-47fb-8b22-04e1667461c1",
   "metadata": {},
   "outputs": [
    {
     "name": "stdout",
     "output_type": "stream",
     "text": [
      "Skills for Staff Engineer: Python, developing complex, stateful backends\n",
      "Links: [[{'links': 'https://example.com/python-portfolio'}, {'links': 'https://example.com/ml-python-portfolio'}]]\n",
      "Skills for Applied Algorithms Researcher: AI, pre-LLM era, AI-driven code generation, advanced research machines and algorithms\n",
      "Links: [[{'links': 'https://example.com/ml-python-portfolio'}, {'links': 'https://example.com/full-stack-js-portfolio'}]]\n",
      "Skills for Compute Platform Engineer: infrastructure, Agents, Customers\n",
      "Links: [[{'links': 'https://example.com/ml-python-portfolio'}, {'links': 'https://example.com/devops-portfolio'}]]\n"
     ]
    }
   ],
   "source": [
    "jobs=json_data\n",
    "\n",
    "for job in jobs:\n",
    "    job_skills = job['skills']  # Get the skills for the current job\n",
    "    print(f\"Skills for {job['role']}: {job_skills}\")\n",
    "    \n",
    "    # Query the collection with the skills from the job\n",
    "    links = collection.query(query_texts=[job_skills], n_results=2).get('metadatas', [])\n",
    "    print(\"Links:\", links)\n"
   ]
  },
  {
   "cell_type": "code",
   "execution_count": 51,
   "id": "ebc77283-0ba5-447b-a2ae-a9d45ff467ba",
   "metadata": {},
   "outputs": [
    {
     "name": "stdout",
     "output_type": "stream",
     "text": [
      "Subject: Expressed Interest in Internship Opportunities at Codegen\n",
      "\n",
      "Dear Hiring Manager,\n",
      "\n",
      "I am writing to express my interest in the internship opportunities available at Codegen. As a second-year student at the University of Moratuwa, studying Computer Science and Engineering (CSE), I am eager to apply my skills and knowledge in a dynamic and fast-paced environment.\n",
      "\n",
      "With a strong foundation in programming languages, including Python, I am confident in my ability to contribute to the development of robust backend systems. My academic achievements include a strong GPA and a keen interest in software development, which has led me to participate in various projects and competitions. Some of my notable projects include:\n",
      "\n",
      "- A machine learning portfolio (https://example.com/ml-python-portfolio) that showcases my skills in AI-driven code generation using Python.\n",
      "- A DevOps portfolio (https://example.com/devops-portfolio) that highlights my expertise in infrastructure management and deployment.\n",
      "\n",
      "I am particularly drawn to the Applied Algorithms Researcher role, as it aligns with my interests in AI and pre-LLM era research. My skills in AI, combined with my experience in developing complex, stateful backends, make me a strong candidate for this position.\n",
      "\n",
      "As a motivated and eager-to-learn student, I am excited about the opportunity to work with Codegen's team and contribute to the development of advanced research machines and algorithms. I am confident that my skills, academic achievements, and passion for software development make me a strong fit for this internship role.\n",
      "\n",
      "Thank you for considering my application. I would be thrilled to discuss my qualifications further and learn more about the opportunities available at Codegen.\n",
      "\n",
      "Best regards,\n",
      "Navatharshini\n"
     ]
    }
   ],
   "source": [
    "from langchain.prompts import PromptTemplate\n",
    "\n",
    "prompt_email = PromptTemplate.from_template(\n",
    "    \"\"\"\n",
    "    ### JOB DESCRIPTION:\n",
    "    {job_description}\n",
    "    \n",
    "    ### INSTRUCTION:\n",
    "    You are Navatharshini, a second-year student at the University of Moratuwa, studying Computer Science and Engineering (CSE). You are actively searching for an internship in the field of software development. \n",
    "    Your job is to write a cold email to the hiring manager regarding the job mentioned above, highlighting your academic achievements, skills, and why you are the right fit for the internship role. \n",
    "    Also, mention any relevant projects or skills from your academic work or personal portfolio that align with the company's needs.\n",
    "    \n",
    "    Additionally, include any relevant links to showcase your skills or projects:\n",
    "    {link_list}\n",
    "    \n",
    "    Remember, you are Navatharshini, a motivated and eager-to-learn student seeking a valuable internship experience. Do not provide a preamble.\n",
    "    \n",
    "    ### EMAIL (NO PREAMBLE):\n",
    "    \"\"\"\n",
    ")\n",
    "\n",
    "\n",
    "chain_email = prompt_email | llm\n",
    "res = chain_email.invoke({\"job_description\": str(jobs), \"link_list\": links})\n",
    "print(res.content)"
   ]
  },
  {
   "cell_type": "code",
   "execution_count": null,
   "id": "94e773d1-dd42-4b36-9b44-8b8040736be6",
   "metadata": {},
   "outputs": [],
   "source": []
  },
  {
   "cell_type": "code",
   "execution_count": null,
   "id": "5430516d-abb2-4c07-801c-5ddaba0c2c21",
   "metadata": {},
   "outputs": [],
   "source": []
  },
  {
   "cell_type": "code",
   "execution_count": null,
   "id": "bb4c028f-8320-4c22-b633-6812e7e0b4e7",
   "metadata": {},
   "outputs": [],
   "source": []
  },
  {
   "cell_type": "code",
   "execution_count": 41,
   "id": "b68157ba-b800-4988-afc1-217f1436bf6c",
   "metadata": {},
   "outputs": [
    {
     "name": "stdout",
     "output_type": "stream",
     "text": [
      "[{'role': 'Staff Engineer', 'experience': '10+ years', 'skills': 'Python, developing complex, stateful backends', 'description': 'Join Codegen as a Staff Engineer to build robust backend systems and lead projects in a dynamic, fast-paced environment.'}, {'role': 'Applied Algorithms Researcher', 'experience': '', 'skills': 'AI, pre-LLM era, AI-driven code generation, advanced research machines and algorithms', 'description': 'Join us as an Applied Algorithms Researcher to shape the future of AI-driven code generation. Bring your expertise in AI, particularly from a pre-LLM era, and drive the development of advanced research machines and algorithms.'}, {'role': 'Compute Platform Engineer', 'experience': '', 'skills': 'infrastructure, Agents, Customers', 'description': 'Join Codegen as a Senior/Staff Compute Platform Engineer to build and maintain infrastructure used by our Agents and Customers.'}]\n"
     ]
    }
   ],
   "source": [
    "print(job)"
   ]
  },
  {
   "cell_type": "code",
   "execution_count": null,
   "id": "b5448af7-19b0-4de2-896b-4b5391a625e5",
   "metadata": {},
   "outputs": [],
   "source": []
  },
  {
   "cell_type": "code",
   "execution_count": 3,
   "id": "a9b37e0c-11ed-48ee-99c2-397a1c9dfa70",
   "metadata": {},
   "outputs": [
    {
     "name": "stdout",
     "output_type": "stream",
     "text": [
      "Requirement already satisfied: selenium in c:\\users\\navat\\anaconda3\\lib\\site-packages (4.31.0)\n",
      "Requirement already satisfied: urllib3<3,>=1.26 in c:\\users\\navat\\appdata\\roaming\\python\\python312\\site-packages (from urllib3[socks]<3,>=1.26->selenium) (2.3.0)\n",
      "Requirement already satisfied: trio~=0.17 in c:\\users\\navat\\anaconda3\\lib\\site-packages (from selenium) (0.29.0)\n",
      "Requirement already satisfied: trio-websocket~=0.9 in c:\\users\\navat\\anaconda3\\lib\\site-packages (from selenium) (0.12.2)\n",
      "Requirement already satisfied: certifi>=2021.10.8 in c:\\users\\navat\\appdata\\roaming\\python\\python312\\site-packages (from selenium) (2024.12.14)\n",
      "Requirement already satisfied: typing_extensions~=4.9 in c:\\users\\navat\\appdata\\roaming\\python\\python312\\site-packages (from selenium) (4.12.2)\n",
      "Requirement already satisfied: websocket-client~=1.8 in c:\\users\\navat\\appdata\\roaming\\python\\python312\\site-packages (from selenium) (1.8.0)\n",
      "Requirement already satisfied: attrs>=23.2.0 in c:\\users\\navat\\appdata\\roaming\\python\\python312\\site-packages (from trio~=0.17->selenium) (24.3.0)\n",
      "Requirement already satisfied: sortedcontainers in c:\\users\\navat\\anaconda3\\lib\\site-packages (from trio~=0.17->selenium) (2.4.0)\n",
      "Requirement already satisfied: idna in c:\\users\\navat\\appdata\\roaming\\python\\python312\\site-packages (from trio~=0.17->selenium) (3.10)\n",
      "Requirement already satisfied: outcome in c:\\users\\navat\\anaconda3\\lib\\site-packages (from trio~=0.17->selenium) (1.3.0.post0)\n",
      "Requirement already satisfied: sniffio>=1.3.0 in c:\\users\\navat\\appdata\\roaming\\python\\python312\\site-packages (from trio~=0.17->selenium) (1.3.1)\n",
      "Requirement already satisfied: cffi>=1.14 in c:\\users\\navat\\appdata\\roaming\\python\\python312\\site-packages (from trio~=0.17->selenium) (1.17.1)\n",
      "Requirement already satisfied: wsproto>=0.14 in c:\\users\\navat\\anaconda3\\lib\\site-packages (from trio-websocket~=0.9->selenium) (1.2.0)\n",
      "Requirement already satisfied: pysocks!=1.5.7,<2.0,>=1.5.6 in c:\\users\\navat\\anaconda3\\lib\\site-packages (from urllib3[socks]<3,>=1.26->selenium) (1.7.1)\n",
      "Requirement already satisfied: pycparser in c:\\users\\navat\\appdata\\roaming\\python\\python312\\site-packages (from cffi>=1.14->trio~=0.17->selenium) (2.22)\n",
      "Requirement already satisfied: h11<1,>=0.9.0 in c:\\users\\navat\\appdata\\roaming\\python\\python312\\site-packages (from wsproto>=0.14->trio-websocket~=0.9->selenium) (0.14.0)\n",
      "Note: you may need to restart the kernel to use updated packages.\n"
     ]
    }
   ],
   "source": [
    "pip install selenium\n"
   ]
  },
  {
   "cell_type": "code",
   "execution_count": null,
   "id": "849dd2f3-627a-44c2-9098-a429659d34f4",
   "metadata": {},
   "outputs": [],
   "source": [
    "from selenium import webdriver\n",
    "from selenium.webdriver.chrome.service import Service\n",
    "from webdriver_manager.chrome import ChromeDriverManager\n",
    "from selenium.webdriver.common.by import By\n",
    "import time\n",
    "\n",
    "# Set up the Chrome WebDriver\n",
    "options = webdriver.ChromeOptions()\n",
    "options.add_argument(\"--headless\")  # Run headlessly without opening a browser window\n",
    "options.add_argument(\"--disable-gpu\")\n",
    "driver = webdriver.Chrome(service=Service(ChromeDriverManager().install()), options=options)\n",
    "\n",
    "# Open the page\n",
    "driver.get(\"https://wso2.com/careers/\")\n",
    "\n",
    "# Wait for the JavaScript to load (you might need to adjust the time)\n",
    "time.sleep(5)  # Wait for the content to load, adjust the sleep time if necessary\n",
    "\n",
    "# Extract the page content\n",
    "page_content = driver.page_source\n",
    "\n",
    "# Print or process the content\n",
    "print(page_content)\n",
    "\n",
    "# Close the driver\n",
    "driver.quit()\n"
   ]
  },
  {
   "cell_type": "code",
   "execution_count": 6,
   "id": "c54c9c45-2415-4913-9d13-456d2f6abb24",
   "metadata": {},
   "outputs": [
    {
     "name": "stdout",
     "output_type": "stream",
     "text": [
      "Requirement already satisfied: webdriver-manager in c:\\users\\navat\\anaconda3\\lib\\site-packages (4.0.2)Note: you may need to restart the kernel to use updated packages.\n",
      "\n",
      "Requirement already satisfied: requests in c:\\users\\navat\\appdata\\roaming\\python\\python312\\site-packages (from webdriver-manager) (2.32.3)\n",
      "Requirement already satisfied: python-dotenv in c:\\users\\navat\\anaconda3\\lib\\site-packages (from webdriver-manager) (0.21.0)\n",
      "Requirement already satisfied: packaging in c:\\users\\navat\\appdata\\roaming\\python\\python312\\site-packages (from webdriver-manager) (24.2)\n",
      "Requirement already satisfied: charset-normalizer<4,>=2 in c:\\users\\navat\\appdata\\roaming\\python\\python312\\site-packages (from requests->webdriver-manager) (3.4.1)\n",
      "Requirement already satisfied: idna<4,>=2.5 in c:\\users\\navat\\appdata\\roaming\\python\\python312\\site-packages (from requests->webdriver-manager) (3.10)\n",
      "Requirement already satisfied: urllib3<3,>=1.21.1 in c:\\users\\navat\\appdata\\roaming\\python\\python312\\site-packages (from requests->webdriver-manager) (2.3.0)\n",
      "Requirement already satisfied: certifi>=2017.4.17 in c:\\users\\navat\\appdata\\roaming\\python\\python312\\site-packages (from requests->webdriver-manager) (2024.12.14)\n"
     ]
    }
   ],
   "source": [
    "pip install webdriver-manager\n"
   ]
  },
  {
   "cell_type": "code",
   "execution_count": null,
   "id": "17a89c21-ea17-45af-853c-317bbfd007db",
   "metadata": {},
   "outputs": [],
   "source": []
  }
 ],
 "metadata": {
  "kernelspec": {
   "display_name": "Python 3 (ipykernel)",
   "language": "python",
   "name": "python3"
  },
  "language_info": {
   "codemirror_mode": {
    "name": "ipython",
    "version": 3
   },
   "file_extension": ".py",
   "mimetype": "text/x-python",
   "name": "python",
   "nbconvert_exporter": "python",
   "pygments_lexer": "ipython3",
   "version": "3.12.7"
  }
 },
 "nbformat": 4,
 "nbformat_minor": 5
}
