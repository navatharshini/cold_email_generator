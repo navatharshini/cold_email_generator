{
 "cells": [
  {
   "cell_type": "code",
   "execution_count": null,
   "id": "9cc6aa42",
   "metadata": {},
   "outputs": [],
   "source": [
    "from langchain_groq import ChatGroq\n",
    "\n",
    "llm = ChatGroq(\n",
    "    temperature=0,\n",
    "    groq_api_key='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',\n",
    "    model_name=\"llama-3.1-8b-instant\"\n",
    ")\n",
    "\n",
    "\n",
    "res=llm.invoke(\"boring\")\n",
    "print(res.content)"
   ]
  }
 ],
 "metadata": {
  "kernelspec": {
   "display_name": "Python 3",
   "language": "python",
   "name": "python3"
  },
  "language_info": {
   "name": "python",
   "version": "3.10.11"
  }
 },
 "nbformat": 4,
 "nbformat_minor": 5
}
