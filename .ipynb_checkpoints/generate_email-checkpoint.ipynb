{
 "cells": [
  {
   "cell_type": "code",
   "execution_count": 3,
   "id": "54683f63-070d-4a77-ad5c-4fc37ffe9c66",
   "metadata": {},
   "outputs": [],
   "source": []
  },
  {
   "cell_type": "code",
   "execution_count": 4,
   "id": "74b8e11c-e5eb-490c-8520-bd8498af8a0e",
   "metadata": {},
   "outputs": [],
   "source": [
    "\n"
   ]
  },
  {
   "cell_type": "code",
   "execution_count": 27,
   "id": "24380a86-4c64-4e14-9a7e-2a7079fdb0a0",
   "metadata": {},
   "outputs": [
    {
     "name": "stdout",
     "output_type": "stream",
     "text": [
      "It sounds like you're feeling a bit underwhelmed. What's on your mind? Want to talk about what's boring you?\n"
     ]
    }
   ],
   "source": [
    "from langchain_groq import ChatGroq\n",
    "\n",
    "llm = ChatGroq(\n",
    "    temperature=0,\n",
    "    groq_api_key='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',\n",
    "    model_name=\"llama-3.1-8b-instant\"\n",
    ")\n",
    "\n",
    "\n",
    "res=llm.invoke(\"boring\")\n",
    "print(res.content)"
   ]
  },
  {
   "cell_type": "code",
   "execution_count": 28,
   "id": "a06d4ffd-3c63-47cb-911c-83fe8be86a54",
   "metadata": {},
   "outputs": [
    {
     "name": "stdout",
     "output_type": "stream",
     "text": [
      "Careers at Codegen | Build the Future of AI\n",
      "\n",
      "EnterpriseSecurityPricingCareersLoginCome build the future of software engineeringFull-TimeBased in San FranciscoIn-PersonApplyOpen RolesAt Codegen, we’re on a mission to revolutionize the way enterprise companies manage and transform their codebases. We’re looking for passionate, driven individuals who are ready to take on big challenges, build cutting-edge solutions, and help shape the future of software engineering.Staff EngineerJoin Codegen as a Staff Engineer to build robust backend systems and lead projects in a dynamic, fast-paced environment. Must have 10+ years of experience, with a background in developing complex, stateful backends using Python.Applied Algorithms ResearcherJoin us as an Applied Algorithms Researcher to shape the future of AI-driven code generation. Bring your expertise in AI, particularly from a pre-LLM era, and drive the development of advanced research machines and algorithms.Compute Platform EngineerJoin Codegen as a Senior/Staff Compute Platform Engineer to build and maintain infrastructure used by our Agents and Customers. Codegen is an Equal Opportunity Employer. We are committed to providing equal employment opportunities to all individuals regardless of race, color, religion, sex, sexual orientation, gender identity, national origin, disability, age, protected veteran status, or any other characteristic protected by federal, state, or local laws. For California applicants, Codegen complies with all applicable state and local laws, including the California Fair Employment and Housing Act (FEHA), which prohibits discrimination and harassment in employment based on characteristics such as race, gender, disability, and more. We encourage candidates of all backgrounds to apply and are dedicated to fostering a workplace that is inclusive and supportive for everyone.CompanyAboutCareersContactEnterpriseSecurityResourcesDocumentationStatusPrivacy PolicyTerms of ServicePlatformGet StartedLogin© Codegen, Inc. Est 2023. All Rights Reserved.\n",
      "\n",
      "\n"
     ]
    }
   ],
   "source": [
    "from langchain_community.document_loaders import WebBaseLoader\n",
    "loader = WebBaseLoader(\"https://www.codegen.com/careers\")\n",
    "page_data=loader.load().pop().page_content\n",
    "print(page_data)"
   ]
  },
  {
   "cell_type": "code",
   "execution_count": 29,
   "id": "2e54ef73-1899-4037-abb6-2c33441e46b5",
   "metadata": {},
   "outputs": [
    {
     "name": "stdout",
     "output_type": "stream",
     "text": [
      "```json\n",
      "[\n",
      "  {\n",
      "    \"role\": \"Staff Engineer\",\n",
      "    \"experience\": \"10+ years\",\n",
      "    \"skills\": \"Python, developing complex, stateful backends\",\n",
      "    \"description\": \"Join Codegen as a Staff Engineer to build robust backend systems and lead projects in a dynamic, fast-paced environment.\"\n",
      "  },\n",
      "  {\n",
      "    \"role\": \"Applied Algorithms Researcher\",\n",
      "    \"experience\": \"\",\n",
      "    \"skills\": \"AI, pre-LLM era, advanced research machines and algorithms\",\n",
      "    \"description\": \"Join us as an Applied Algorithms Researcher to shape the future of AI-driven code generation.\"\n",
      "  },\n",
      "  {\n",
      "    \"role\": \"Senior/Staff Compute Platform Engineer\",\n",
      "    \"experience\": \"\",\n",
      "    \"skills\": \"infrastructure, Agents, Customers\",\n",
      "    \"description\": \"Join Codegen as a Senior/Staff Compute Platform Engineer to build and maintain infrastructure used by our Agents and Customers.\"\n",
      "  }\n",
      "]\n",
      "```\n"
     ]
    }
   ],
   "source": [
    "from langchain_core.prompts import PromptTemplate\n",
    "\n",
    "# Define the prompt template\n",
    "prompt_extract = PromptTemplate.from_template(\n",
    "    \"\"\"\n",
    "    ### SCRAPED TEXT FROM WEBSITE:\n",
    "    {page_data}\n",
    "    ### INSTRUCTION:\n",
    "    The scraped text is from the career's page of a website.\n",
    "    Your job is to extract the job postings and return them in JSON format containing the following keys: `role`, `experience`, `skills` and `description`.\n",
    "    Only return the valid JSON (NO PREAMBLE):\n",
    "    \"\"\"\n",
    ")\n",
    "\n",
    "# Use the prompt with a language model (llm) to extract the relevant information\n",
    "chain_extract = prompt_extract | llm\n",
    "\n",
    "# Invoke the model\n",
    "res = chain_extract.invoke(input={'page_data': page_data})\n",
    "\n",
    "# Print the response content\n",
    "print(res.content)\n"
   ]
  },
  {
   "cell_type": "code",
   "execution_count": 30,
   "id": "bd53ad43-d2b6-42a9-a49e-060e93879803",
   "metadata": {},
   "outputs": [
    {
     "name": "stdout",
     "output_type": "stream",
     "text": [
      "[{'role': 'Staff Engineer', 'experience': '10+ years', 'skills': 'Python, developing complex, stateful backends', 'description': 'Join Codegen as a Staff Engineer to build robust backend systems and lead projects in a dynamic, fast-paced environment.'}, {'role': 'Applied Algorithms Researcher', 'experience': '', 'skills': 'AI, pre-LLM era, advanced research machines and algorithms', 'description': 'Join us as an Applied Algorithms Researcher to shape the future of AI-driven code generation.'}, {'role': 'Senior/Staff Compute Platform Engineer', 'experience': '', 'skills': 'infrastructure, Agents, Customers', 'description': 'Join Codegen as a Senior/Staff Compute Platform Engineer to build and maintain infrastructure used by our Agents and Customers.'}]\n"
     ]
    }
   ],
   "source": [
    "from langchain_core.output_parsers import JsonOutputParser\n",
    "\n",
    "# Initialize the JSON Output Parser\n",
    "json_parser = JsonOutputParser()\n",
    "\n",
    "# Parse the content of the response (the output from your model)\n",
    "json_data = json_parser.parse(res.content)\n",
    "print(json_data)\n"
   ]
  },
  {
   "cell_type": "code",
   "execution_count": 33,
   "id": "34b86c1c-c0e3-4cab-b893-0e076b83d782",
   "metadata": {
    "scrolled": true
   },
   "outputs": [
    {
     "data": {
      "text/html": [
       "<div>\n",
       "<style scoped>\n",
       "    .dataframe tbody tr th:only-of-type {\n",
       "        vertical-align: middle;\n",
       "    }\n",
       "\n",
       "    .dataframe tbody tr th {\n",
       "        vertical-align: top;\n",
       "    }\n",
       "\n",
       "    .dataframe thead th {\n",
       "        text-align: right;\n",
       "    }\n",
       "</style>\n",
       "<table border=\"1\" class=\"dataframe\">\n",
       "  <thead>\n",
       "    <tr style=\"text-align: right;\">\n",
       "      <th></th>\n",
       "      <th>Techstack</th>\n",
       "      <th>Links</th>\n",
       "    </tr>\n",
       "  </thead>\n",
       "  <tbody>\n",
       "    <tr>\n",
       "      <th>0</th>\n",
       "      <td>React, Node.js, MongoDB</td>\n",
       "      <td>https://example.com/react-portfolio</td>\n",
       "    </tr>\n",
       "    <tr>\n",
       "      <th>1</th>\n",
       "      <td>Angular, .NET, SQL Server</td>\n",
       "      <td>https://example.com/angular-portfolio</td>\n",
       "    </tr>\n",
       "    <tr>\n",
       "      <th>2</th>\n",
       "      <td>Vue.js, Ruby on Rails, PostgreSQL</td>\n",
       "      <td>https://example.com/vue-portfolio</td>\n",
       "    </tr>\n",
       "    <tr>\n",
       "      <th>3</th>\n",
       "      <td>Python, Django, MySQL</td>\n",
       "      <td>https://example.com/python-portfolio</td>\n",
       "    </tr>\n",
       "    <tr>\n",
       "      <th>4</th>\n",
       "      <td>Java, Spring Boot, Oracle</td>\n",
       "      <td>https://example.com/java-portfolio</td>\n",
       "    </tr>\n",
       "    <tr>\n",
       "      <th>5</th>\n",
       "      <td>Flutter, Firebase, GraphQL</td>\n",
       "      <td>https://example.com/flutter-portfolio</td>\n",
       "    </tr>\n",
       "    <tr>\n",
       "      <th>6</th>\n",
       "      <td>WordPress, PHP, MySQL</td>\n",
       "      <td>https://example.com/wordpress-portfolio</td>\n",
       "    </tr>\n",
       "    <tr>\n",
       "      <th>7</th>\n",
       "      <td>Magento, PHP, MySQL</td>\n",
       "      <td>https://example.com/magento-portfolio</td>\n",
       "    </tr>\n",
       "    <tr>\n",
       "      <th>8</th>\n",
       "      <td>React Native, Node.js, MongoDB</td>\n",
       "      <td>https://example.com/react-native-portfolio</td>\n",
       "    </tr>\n",
       "    <tr>\n",
       "      <th>9</th>\n",
       "      <td>iOS, Swift, Core Data</td>\n",
       "      <td>https://example.com/ios-portfolio</td>\n",
       "    </tr>\n",
       "    <tr>\n",
       "      <th>10</th>\n",
       "      <td>Android, Java, Room Persistence</td>\n",
       "      <td>https://example.com/android-portfolio</td>\n",
       "    </tr>\n",
       "    <tr>\n",
       "      <th>11</th>\n",
       "      <td>Kotlin, Android, Firebase</td>\n",
       "      <td>https://example.com/kotlin-android-portfolio</td>\n",
       "    </tr>\n",
       "    <tr>\n",
       "      <th>12</th>\n",
       "      <td>Android TV, Kotlin, Android NDK</td>\n",
       "      <td>https://example.com/android-tv-portfolio</td>\n",
       "    </tr>\n",
       "    <tr>\n",
       "      <th>13</th>\n",
       "      <td>iOS, Swift, ARKit</td>\n",
       "      <td>https://example.com/ios-ar-portfolio</td>\n",
       "    </tr>\n",
       "    <tr>\n",
       "      <th>14</th>\n",
       "      <td>Cross-platform, Xamarin, Azure</td>\n",
       "      <td>https://example.com/xamarin-portfolio</td>\n",
       "    </tr>\n",
       "    <tr>\n",
       "      <th>15</th>\n",
       "      <td>Backend, Kotlin, Spring Boot</td>\n",
       "      <td>https://example.com/kotlin-backend-portfolio</td>\n",
       "    </tr>\n",
       "    <tr>\n",
       "      <th>16</th>\n",
       "      <td>Frontend, TypeScript, Angular</td>\n",
       "      <td>https://example.com/typescript-frontend-portfolio</td>\n",
       "    </tr>\n",
       "    <tr>\n",
       "      <th>17</th>\n",
       "      <td>Full-stack, JavaScript, Express.js</td>\n",
       "      <td>https://example.com/full-stack-js-portfolio</td>\n",
       "    </tr>\n",
       "    <tr>\n",
       "      <th>18</th>\n",
       "      <td>Machine Learning, Python, TensorFlow</td>\n",
       "      <td>https://example.com/ml-python-portfolio</td>\n",
       "    </tr>\n",
       "    <tr>\n",
       "      <th>19</th>\n",
       "      <td>DevOps, Jenkins, Docker</td>\n",
       "      <td>https://example.com/devops-portfolio</td>\n",
       "    </tr>\n",
       "  </tbody>\n",
       "</table>\n",
       "</div>"
      ],
      "text/plain": [
       "                               Techstack  \\\n",
       "0                React, Node.js, MongoDB   \n",
       "1              Angular, .NET, SQL Server   \n",
       "2      Vue.js, Ruby on Rails, PostgreSQL   \n",
       "3                  Python, Django, MySQL   \n",
       "4              Java, Spring Boot, Oracle   \n",
       "5             Flutter, Firebase, GraphQL   \n",
       "6                  WordPress, PHP, MySQL   \n",
       "7                    Magento, PHP, MySQL   \n",
       "8         React Native, Node.js, MongoDB   \n",
       "9                  iOS, Swift, Core Data   \n",
       "10       Android, Java, Room Persistence   \n",
       "11             Kotlin, Android, Firebase   \n",
       "12       Android TV, Kotlin, Android NDK   \n",
       "13                     iOS, Swift, ARKit   \n",
       "14        Cross-platform, Xamarin, Azure   \n",
       "15          Backend, Kotlin, Spring Boot   \n",
       "16         Frontend, TypeScript, Angular   \n",
       "17    Full-stack, JavaScript, Express.js   \n",
       "18  Machine Learning, Python, TensorFlow   \n",
       "19               DevOps, Jenkins, Docker   \n",
       "\n",
       "                                                Links  \n",
       "0                 https://example.com/react-portfolio  \n",
       "1               https://example.com/angular-portfolio  \n",
       "2                   https://example.com/vue-portfolio  \n",
       "3                https://example.com/python-portfolio  \n",
       "4                  https://example.com/java-portfolio  \n",
       "5               https://example.com/flutter-portfolio  \n",
       "6             https://example.com/wordpress-portfolio  \n",
       "7               https://example.com/magento-portfolio  \n",
       "8          https://example.com/react-native-portfolio  \n",
       "9                   https://example.com/ios-portfolio  \n",
       "10              https://example.com/android-portfolio  \n",
       "11       https://example.com/kotlin-android-portfolio  \n",
       "12           https://example.com/android-tv-portfolio  \n",
       "13               https://example.com/ios-ar-portfolio  \n",
       "14              https://example.com/xamarin-portfolio  \n",
       "15       https://example.com/kotlin-backend-portfolio  \n",
       "16  https://example.com/typescript-frontend-portfolio  \n",
       "17        https://example.com/full-stack-js-portfolio  \n",
       "18            https://example.com/ml-python-portfolio  \n",
       "19               https://example.com/devops-portfolio  "
      ]
     },
     "execution_count": 33,
     "metadata": {},
     "output_type": "execute_result"
    }
   ],
   "source": [
    "import pandas as pd\n",
    "df=pd.read_csv(\"portfolio_links.csv\")\n",
    "df"
   ]
  },
  {
   "cell_type": "code",
   "execution_count": 34,
   "id": "a26c93fc-b833-494e-8482-2207242e547f",
   "metadata": {},
   "outputs": [],
   "source": [
    "import uuid\n",
    "import chromadb\n",
    "\n",
    "# Create a Persistent Client for ChromaDB (for persistent storage of vector data)\n",
    "client = chromadb.PersistentClient('vectorstore')\n",
    "\n",
    "# Get or create a collection in the vector store\n",
    "collection1 = client.get_or_create_collection(name=\"portfolio\")\n",
    "\n",
    "# Check if the collection is empty (if no documents exist)\n",
    "if not collection1.count():\n",
    "    # Iterate through rows in a DataFrame (df)\n",
    "    for _, row in df.iterrows():\n",
    "        # Add documents to the collection\n",
    "        collection1.add(\n",
    "            documents=row[\"Techstack\"],  # Adding the techstack from the DataFrame row\n",
    "            metadata={\"links\": row[\"Links\"]},  # Adding metadata (links) from the DataFrame row\n",
    "            ids=[str(uuid.uuid4())]  # Generating a unique ID for each document\n",
    "        )\n"
   ]
  },
  {
   "cell_type": "code",
   "execution_count": 35,
   "id": "6d60f4e3-c028-4e49-b983-c6a681ffc581",
   "metadata": {},
   "outputs": [
    {
     "name": "stdout",
     "output_type": "stream",
     "text": [
      "[[{'wikilink': 'https://en.wikipedia.org/wiki/Delhi'}, {'wikilink': 'https://en.wikipedia.org/wiki/New_York_City'}], [{'wikilink': 'https://en.wikipedia.org/wiki/Delhi'}, {'wikilink': 'https://en.wikipedia.org/wiki/New_York_City'}]]\n"
     ]
    }
   ],
   "source": [
    "results = collection1.query(\n",
    "    query_texts=[\"Experience in Python\", \"Expertise in React Native\"],\n",
    "    n_results=2\n",
    ").get('metadatas')\n",
    "\n",
    "print(results)\n"
   ]
  },
  {
   "cell_type": "code",
   "execution_count": 36,
   "id": "dc6e55a7-8b14-4b36-af9d-04a5a9140317",
   "metadata": {},
   "outputs": [
    {
     "name": "stdout",
     "output_type": "stream",
     "text": [
      "All Documents: [['This document is about New York', 'This document is about Delhi']]\n",
      "All Metadata: <built-in function all>\n"
     ]
    }
   ],
   "source": [
    "# Query the entire collection (without any search query) to get all documents and metadata\n",
    "results = collection.query(\n",
    "    query_texts=[\"\"],  # Empty query will fetch all documents\n",
    "    n_results=collection.count()  # Get all documents by passing the collection count\n",
    ")\n",
    "\n",
    "# Retrieve the full list of documents and metadata\n",
    "all_documents = results['documents']  # List of all documents\n",
    "all_metadatas = results['metadatas']  # List of all metadata\n",
    "\n",
    "# Print all documents and metadata\n",
    "print(\"All Documents:\", all_documents)\n",
    "print(\"All Metadata:\", all)\n"
   ]
  },
  {
   "cell_type": "code",
   "execution_count": 37,
   "id": "a9b37e0c-11ed-48ee-99c2-397a1c9dfa70",
   "metadata": {},
   "outputs": [
    {
     "name": "stdout",
     "output_type": "stream",
     "text": [
      "Requirement already satisfied: selenium in c:\\users\\navat\\anaconda3\\lib\\site-packages (4.31.0)\n",
      "Requirement already satisfied: urllib3<3,>=1.26 in c:\\users\\navat\\appdata\\roaming\\python\\python312\\site-packages (from urllib3[socks]<3,>=1.26->selenium) (2.3.0)\n",
      "Requirement already satisfied: trio~=0.17 in c:\\users\\navat\\anaconda3\\lib\\site-packages (from selenium) (0.29.0)\n",
      "Requirement already satisfied: trio-websocket~=0.9 in c:\\users\\navat\\anaconda3\\lib\\site-packages (from selenium) (0.12.2)\n",
      "Requirement already satisfied: certifi>=2021.10.8 in c:\\users\\navat\\appdata\\roaming\\python\\python312\\site-packages (from selenium) (2024.12.14)\n",
      "Requirement already satisfied: typing_extensions~=4.9 in c:\\users\\navat\\appdata\\roaming\\python\\python312\\site-packages (from selenium) (4.12.2)\n",
      "Requirement already satisfied: websocket-client~=1.8 in c:\\users\\navat\\appdata\\roaming\\python\\python312\\site-packages (from selenium) (1.8.0)\n",
      "Requirement already satisfied: attrs>=23.2.0 in c:\\users\\navat\\appdata\\roaming\\python\\python312\\site-packages (from trio~=0.17->selenium) (24.3.0)\n",
      "Requirement already satisfied: sortedcontainers in c:\\users\\navat\\anaconda3\\lib\\site-packages (from trio~=0.17->selenium) (2.4.0)\n",
      "Requirement already satisfied: idna in c:\\users\\navat\\appdata\\roaming\\python\\python312\\site-packages (from trio~=0.17->selenium) (3.10)\n",
      "Requirement already satisfied: outcome in c:\\users\\navat\\anaconda3\\lib\\site-packages (from trio~=0.17->selenium) (1.3.0.post0)\n",
      "Requirement already satisfied: sniffio>=1.3.0 in c:\\users\\navat\\appdata\\roaming\\python\\python312\\site-packages (from trio~=0.17->selenium) (1.3.1)\n",
      "Requirement already satisfied: cffi>=1.14 in c:\\users\\navat\\appdata\\roaming\\python\\python312\\site-packages (from trio~=0.17->selenium) (1.17.1)\n",
      "Requirement already satisfied: wsproto>=0.14 in c:\\users\\navat\\anaconda3\\lib\\site-packages (from trio-websocket~=0.9->selenium) (1.2.0)\n",
      "Requirement already satisfied: pysocks!=1.5.7,<2.0,>=1.5.6 in c:\\users\\navat\\anaconda3\\lib\\site-packages (from urllib3[socks]<3,>=1.26->selenium) (1.7.1)\n",
      "Requirement already satisfied: pycparser in c:\\users\\navat\\appdata\\roaming\\python\\python312\\site-packages (from cffi>=1.14->trio~=0.17->selenium) (2.22)\n",
      "Requirement already satisfied: h11<1,>=0.9.0 in c:\\users\\navat\\appdata\\roaming\\python\\python312\\site-packages (from wsproto>=0.14->trio-websocket~=0.9->selenium) (0.14.0)\n",
      "Note: you may need to restart the kernel to use updated packages.\n"
     ]
    }
   ],
   "source": [
    "pip install selenium\n"
   ]
  },
  {
   "cell_type": "code",
   "execution_count": null,
   "id": "849dd2f3-627a-44c2-9098-a429659d34f4",
   "metadata": {},
   "outputs": [],
   "source": [
    "from selenium import webdriver\n",
    "from selenium.webdriver.chrome.service import Service\n",
    "from webdriver_manager.chrome import ChromeDriverManager\n",
    "from selenium.webdriver.common.by import By\n",
    "import time\n",
    "\n",
    "# Set up the Chrome WebDriver\n",
    "options = webdriver.ChromeOptions()\n",
    "options.add_argument(\"--headless\")  # Run headlessly without opening a browser window\n",
    "options.add_argument(\"--disable-gpu\")\n",
    "driver = webdriver.Chrome(service=Service(ChromeDriverManager().install()), options=options)\n",
    "\n",
    "# Open the page\n",
    "driver.get(\"https://wso2.com/careers/\")\n",
    "\n",
    "# Wait for the JavaScript to load (you might need to adjust the time)\n",
    "time.sleep(5)  # Wait for the content to load, adjust the sleep time if necessary\n",
    "\n",
    "# Extract the page content\n",
    "page_content = driver.page_source\n",
    "\n",
    "# Print or process the content\n",
    "print(page_content)\n",
    "\n",
    "# Close the driver\n",
    "driver.quit()\n"
   ]
  },
  {
   "cell_type": "code",
   "execution_count": 6,
   "id": "c54c9c45-2415-4913-9d13-456d2f6abb24",
   "metadata": {},
   "outputs": [
    {
     "name": "stdout",
     "output_type": "stream",
     "text": [
      "Requirement already satisfied: webdriver-manager in c:\\users\\navat\\anaconda3\\lib\\site-packages (4.0.2)Note: you may need to restart the kernel to use updated packages.\n",
      "\n",
      "Requirement already satisfied: requests in c:\\users\\navat\\appdata\\roaming\\python\\python312\\site-packages (from webdriver-manager) (2.32.3)\n",
      "Requirement already satisfied: python-dotenv in c:\\users\\navat\\anaconda3\\lib\\site-packages (from webdriver-manager) (0.21.0)\n",
      "Requirement already satisfied: packaging in c:\\users\\navat\\appdata\\roaming\\python\\python312\\site-packages (from webdriver-manager) (24.2)\n",
      "Requirement already satisfied: charset-normalizer<4,>=2 in c:\\users\\navat\\appdata\\roaming\\python\\python312\\site-packages (from requests->webdriver-manager) (3.4.1)\n",
      "Requirement already satisfied: idna<4,>=2.5 in c:\\users\\navat\\appdata\\roaming\\python\\python312\\site-packages (from requests->webdriver-manager) (3.10)\n",
      "Requirement already satisfied: urllib3<3,>=1.21.1 in c:\\users\\navat\\appdata\\roaming\\python\\python312\\site-packages (from requests->webdriver-manager) (2.3.0)\n",
      "Requirement already satisfied: certifi>=2017.4.17 in c:\\users\\navat\\appdata\\roaming\\python\\python312\\site-packages (from requests->webdriver-manager) (2024.12.14)\n"
     ]
    }
   ],
   "source": [
    "pip install webdriver-manager\n"
   ]
  },
  {
   "cell_type": "code",
   "execution_count": null,
   "id": "fc02d694-abc6-4cb9-bf04-047b9bc8a1fb",
   "metadata": {},
   "outputs": [],
   "source": []
  }
 ],
 "metadata": {
  "kernelspec": {
   "display_name": "Python 3 (ipykernel)",
   "language": "python",
   "name": "python3"
  },
  "language_info": {
   "codemirror_mode": {
    "name": "ipython",
    "version": 3
   },
   "file_extension": ".py",
   "mimetype": "text/x-python",
   "name": "python",
   "nbconvert_exporter": "python",
   "pygments_lexer": "ipython3",
   "version": "3.12.7"
  }
 },
 "nbformat": 4,
 "nbformat_minor": 5
}
